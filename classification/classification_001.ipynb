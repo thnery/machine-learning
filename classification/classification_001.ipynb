{
 "cells": [
  {
   "cell_type": "markdown",
   "metadata": {},
   "source": [
    "# Classification Example 001\n",
    "In this example we have a NBA Log dataset. The goal is to predict if a player will last longer than 5 years in league. This data contains a **target** column, the TARGET_5Yrs column can be 0 (< 5 years) or 1 (>= 5 years). As we know our target, we can say for sure this is a **Classification** problem.\n",
    "\n",
    "This dataset can be found [here](https://data.world/exercises/logistic-regression-exercise-1)."
   ]
  },
  {
   "cell_type": "markdown",
   "metadata": {},
   "source": [
    "## Requirements\n",
    "Here are the libraries we will use in this example"
   ]
  },
  {
   "cell_type": "code",
   "execution_count": 1,
   "metadata": {},
   "outputs": [],
   "source": [
    "import os\n",
    "\n",
    "import numpy as np\n",
    "import pandas as pd\n",
    "import matplotlib.pyplot as plt\n",
    "\n",
    "from pandas.plotting import scatter_matrix\n",
    "from sklearn import model_selection\n",
    "from sklearn.metrics import classification_report\n",
    "from sklearn.metrics import confusion_matrix\n",
    "from sklearn.metrics import accuracy_score\n",
    "from sklearn.linear_model import LogisticRegression\n",
    "from sklearn.tree import DecisionTreeClassifier\n",
    "from sklearn.neighbors import KNeighborsClassifier\n",
    "from sklearn.discriminant_analysis import LinearDiscriminantAnalysis\n",
    "from sklearn.naive_bayes import GaussianNB\n",
    "from sklearn.svm import SVC\n",
    "\n",
    "DATASET_PATH = os.path.join(\"datasets\")\n",
    "SEED = 7"
   ]
  },
  {
   "cell_type": "markdown",
   "metadata": {},
   "source": [
    "## Loading the dataset\n",
    "First thing to do is load the dataset, let's use Pandas to do it and check how data is available."
   ]
  },
  {
   "cell_type": "code",
   "execution_count": 2,
   "metadata": {},
   "outputs": [],
   "source": [
    "def load_nba_data(dataset_path=DATASET_PATH):\n",
    "    csv_path = os.path.join(dataset_path, \"nba_logreg.csv\")\n",
    "    return pd.read_csv(csv_path)"
   ]
  },
  {
   "cell_type": "code",
   "execution_count": 3,
   "metadata": {},
   "outputs": [
    {
     "data": {
      "text/html": [
       "<div>\n",
       "<style scoped>\n",
       "    .dataframe tbody tr th:only-of-type {\n",
       "        vertical-align: middle;\n",
       "    }\n",
       "\n",
       "    .dataframe tbody tr th {\n",
       "        vertical-align: top;\n",
       "    }\n",
       "\n",
       "    .dataframe thead th {\n",
       "        text-align: right;\n",
       "    }\n",
       "</style>\n",
       "<table border=\"1\" class=\"dataframe\">\n",
       "  <thead>\n",
       "    <tr style=\"text-align: right;\">\n",
       "      <th></th>\n",
       "      <th>Name</th>\n",
       "      <th>GP</th>\n",
       "      <th>MIN</th>\n",
       "      <th>PTS</th>\n",
       "      <th>FGM</th>\n",
       "      <th>FGA</th>\n",
       "      <th>FG%</th>\n",
       "      <th>3P Made</th>\n",
       "      <th>3PA</th>\n",
       "      <th>3P%</th>\n",
       "      <th>...</th>\n",
       "      <th>FTA</th>\n",
       "      <th>FT%</th>\n",
       "      <th>OREB</th>\n",
       "      <th>DREB</th>\n",
       "      <th>REB</th>\n",
       "      <th>AST</th>\n",
       "      <th>STL</th>\n",
       "      <th>BLK</th>\n",
       "      <th>TOV</th>\n",
       "      <th>TARGET_5Yrs</th>\n",
       "    </tr>\n",
       "  </thead>\n",
       "  <tbody>\n",
       "    <tr>\n",
       "      <th>0</th>\n",
       "      <td>Brandon Ingram</td>\n",
       "      <td>36</td>\n",
       "      <td>27.4</td>\n",
       "      <td>7.4</td>\n",
       "      <td>2.6</td>\n",
       "      <td>7.6</td>\n",
       "      <td>34.7</td>\n",
       "      <td>0.5</td>\n",
       "      <td>2.1</td>\n",
       "      <td>25.0</td>\n",
       "      <td>...</td>\n",
       "      <td>2.3</td>\n",
       "      <td>69.9</td>\n",
       "      <td>0.7</td>\n",
       "      <td>3.4</td>\n",
       "      <td>4.1</td>\n",
       "      <td>1.9</td>\n",
       "      <td>0.4</td>\n",
       "      <td>0.4</td>\n",
       "      <td>1.3</td>\n",
       "      <td>0.0</td>\n",
       "    </tr>\n",
       "    <tr>\n",
       "      <th>1</th>\n",
       "      <td>Andrew Harrison</td>\n",
       "      <td>35</td>\n",
       "      <td>26.9</td>\n",
       "      <td>7.2</td>\n",
       "      <td>2.0</td>\n",
       "      <td>6.7</td>\n",
       "      <td>29.6</td>\n",
       "      <td>0.7</td>\n",
       "      <td>2.8</td>\n",
       "      <td>23.5</td>\n",
       "      <td>...</td>\n",
       "      <td>3.4</td>\n",
       "      <td>76.5</td>\n",
       "      <td>0.5</td>\n",
       "      <td>2.0</td>\n",
       "      <td>2.4</td>\n",
       "      <td>3.7</td>\n",
       "      <td>1.1</td>\n",
       "      <td>0.5</td>\n",
       "      <td>1.6</td>\n",
       "      <td>0.0</td>\n",
       "    </tr>\n",
       "    <tr>\n",
       "      <th>2</th>\n",
       "      <td>JaKarr Sampson</td>\n",
       "      <td>74</td>\n",
       "      <td>15.3</td>\n",
       "      <td>5.2</td>\n",
       "      <td>2.0</td>\n",
       "      <td>4.7</td>\n",
       "      <td>42.2</td>\n",
       "      <td>0.4</td>\n",
       "      <td>1.7</td>\n",
       "      <td>24.4</td>\n",
       "      <td>...</td>\n",
       "      <td>1.3</td>\n",
       "      <td>67.0</td>\n",
       "      <td>0.5</td>\n",
       "      <td>1.7</td>\n",
       "      <td>2.2</td>\n",
       "      <td>1.0</td>\n",
       "      <td>0.5</td>\n",
       "      <td>0.3</td>\n",
       "      <td>1.0</td>\n",
       "      <td>0.0</td>\n",
       "    </tr>\n",
       "    <tr>\n",
       "      <th>3</th>\n",
       "      <td>Malik Sealy</td>\n",
       "      <td>58</td>\n",
       "      <td>11.6</td>\n",
       "      <td>5.7</td>\n",
       "      <td>2.3</td>\n",
       "      <td>5.5</td>\n",
       "      <td>42.6</td>\n",
       "      <td>0.1</td>\n",
       "      <td>0.5</td>\n",
       "      <td>22.6</td>\n",
       "      <td>...</td>\n",
       "      <td>1.3</td>\n",
       "      <td>68.9</td>\n",
       "      <td>1.0</td>\n",
       "      <td>0.9</td>\n",
       "      <td>1.9</td>\n",
       "      <td>0.8</td>\n",
       "      <td>0.6</td>\n",
       "      <td>0.1</td>\n",
       "      <td>1.0</td>\n",
       "      <td>1.0</td>\n",
       "    </tr>\n",
       "    <tr>\n",
       "      <th>4</th>\n",
       "      <td>Matt Geiger</td>\n",
       "      <td>48</td>\n",
       "      <td>11.5</td>\n",
       "      <td>4.5</td>\n",
       "      <td>1.6</td>\n",
       "      <td>3.0</td>\n",
       "      <td>52.4</td>\n",
       "      <td>0.0</td>\n",
       "      <td>0.1</td>\n",
       "      <td>0.0</td>\n",
       "      <td>...</td>\n",
       "      <td>1.9</td>\n",
       "      <td>67.4</td>\n",
       "      <td>1.0</td>\n",
       "      <td>1.5</td>\n",
       "      <td>2.5</td>\n",
       "      <td>0.3</td>\n",
       "      <td>0.3</td>\n",
       "      <td>0.4</td>\n",
       "      <td>0.8</td>\n",
       "      <td>1.0</td>\n",
       "    </tr>\n",
       "    <tr>\n",
       "      <th>5</th>\n",
       "      <td>Tony Bennett</td>\n",
       "      <td>75</td>\n",
       "      <td>11.4</td>\n",
       "      <td>3.7</td>\n",
       "      <td>1.5</td>\n",
       "      <td>3.5</td>\n",
       "      <td>42.3</td>\n",
       "      <td>0.3</td>\n",
       "      <td>1.1</td>\n",
       "      <td>32.5</td>\n",
       "      <td>...</td>\n",
       "      <td>0.5</td>\n",
       "      <td>73.2</td>\n",
       "      <td>0.2</td>\n",
       "      <td>0.7</td>\n",
       "      <td>0.8</td>\n",
       "      <td>1.8</td>\n",
       "      <td>0.4</td>\n",
       "      <td>0.0</td>\n",
       "      <td>0.7</td>\n",
       "      <td>0.0</td>\n",
       "    </tr>\n",
       "    <tr>\n",
       "      <th>6</th>\n",
       "      <td>Don MacLean</td>\n",
       "      <td>62</td>\n",
       "      <td>10.9</td>\n",
       "      <td>6.6</td>\n",
       "      <td>2.5</td>\n",
       "      <td>5.8</td>\n",
       "      <td>43.5</td>\n",
       "      <td>0.0</td>\n",
       "      <td>0.1</td>\n",
       "      <td>50.0</td>\n",
       "      <td>...</td>\n",
       "      <td>1.8</td>\n",
       "      <td>81.1</td>\n",
       "      <td>0.5</td>\n",
       "      <td>1.4</td>\n",
       "      <td>2.0</td>\n",
       "      <td>0.6</td>\n",
       "      <td>0.2</td>\n",
       "      <td>0.1</td>\n",
       "      <td>0.7</td>\n",
       "      <td>1.0</td>\n",
       "    </tr>\n",
       "    <tr>\n",
       "      <th>7</th>\n",
       "      <td>Tracy Murray</td>\n",
       "      <td>48</td>\n",
       "      <td>10.3</td>\n",
       "      <td>5.7</td>\n",
       "      <td>2.3</td>\n",
       "      <td>5.4</td>\n",
       "      <td>41.5</td>\n",
       "      <td>0.4</td>\n",
       "      <td>1.5</td>\n",
       "      <td>30.0</td>\n",
       "      <td>...</td>\n",
       "      <td>0.8</td>\n",
       "      <td>87.5</td>\n",
       "      <td>0.8</td>\n",
       "      <td>0.9</td>\n",
       "      <td>1.7</td>\n",
       "      <td>0.2</td>\n",
       "      <td>0.2</td>\n",
       "      <td>0.1</td>\n",
       "      <td>0.7</td>\n",
       "      <td>1.0</td>\n",
       "    </tr>\n",
       "    <tr>\n",
       "      <th>8</th>\n",
       "      <td>Duane Cooper</td>\n",
       "      <td>65</td>\n",
       "      <td>9.9</td>\n",
       "      <td>2.4</td>\n",
       "      <td>1.0</td>\n",
       "      <td>2.4</td>\n",
       "      <td>39.2</td>\n",
       "      <td>0.1</td>\n",
       "      <td>0.5</td>\n",
       "      <td>23.3</td>\n",
       "      <td>...</td>\n",
       "      <td>0.5</td>\n",
       "      <td>71.4</td>\n",
       "      <td>0.2</td>\n",
       "      <td>0.6</td>\n",
       "      <td>0.8</td>\n",
       "      <td>2.3</td>\n",
       "      <td>0.3</td>\n",
       "      <td>0.0</td>\n",
       "      <td>1.1</td>\n",
       "      <td>0.0</td>\n",
       "    </tr>\n",
       "    <tr>\n",
       "      <th>9</th>\n",
       "      <td>Dave Johnson</td>\n",
       "      <td>42</td>\n",
       "      <td>8.5</td>\n",
       "      <td>3.7</td>\n",
       "      <td>1.4</td>\n",
       "      <td>3.5</td>\n",
       "      <td>38.3</td>\n",
       "      <td>0.1</td>\n",
       "      <td>0.3</td>\n",
       "      <td>21.4</td>\n",
       "      <td>...</td>\n",
       "      <td>1.4</td>\n",
       "      <td>67.8</td>\n",
       "      <td>0.4</td>\n",
       "      <td>0.7</td>\n",
       "      <td>1.1</td>\n",
       "      <td>0.3</td>\n",
       "      <td>0.2</td>\n",
       "      <td>0.0</td>\n",
       "      <td>0.7</td>\n",
       "      <td>0.0</td>\n",
       "    </tr>\n",
       "  </tbody>\n",
       "</table>\n",
       "<p>10 rows × 21 columns</p>\n",
       "</div>"
      ],
      "text/plain": [
       "              Name  GP   MIN  PTS  FGM  FGA   FG%  3P Made  3PA   3P%  ...  \\\n",
       "0   Brandon Ingram  36  27.4  7.4  2.6  7.6  34.7      0.5  2.1  25.0  ...   \n",
       "1  Andrew Harrison  35  26.9  7.2  2.0  6.7  29.6      0.7  2.8  23.5  ...   \n",
       "2   JaKarr Sampson  74  15.3  5.2  2.0  4.7  42.2      0.4  1.7  24.4  ...   \n",
       "3      Malik Sealy  58  11.6  5.7  2.3  5.5  42.6      0.1  0.5  22.6  ...   \n",
       "4      Matt Geiger  48  11.5  4.5  1.6  3.0  52.4      0.0  0.1   0.0  ...   \n",
       "5     Tony Bennett  75  11.4  3.7  1.5  3.5  42.3      0.3  1.1  32.5  ...   \n",
       "6      Don MacLean  62  10.9  6.6  2.5  5.8  43.5      0.0  0.1  50.0  ...   \n",
       "7     Tracy Murray  48  10.3  5.7  2.3  5.4  41.5      0.4  1.5  30.0  ...   \n",
       "8     Duane Cooper  65   9.9  2.4  1.0  2.4  39.2      0.1  0.5  23.3  ...   \n",
       "9     Dave Johnson  42   8.5  3.7  1.4  3.5  38.3      0.1  0.3  21.4  ...   \n",
       "\n",
       "   FTA   FT%  OREB  DREB  REB  AST  STL  BLK  TOV  TARGET_5Yrs  \n",
       "0  2.3  69.9   0.7   3.4  4.1  1.9  0.4  0.4  1.3          0.0  \n",
       "1  3.4  76.5   0.5   2.0  2.4  3.7  1.1  0.5  1.6          0.0  \n",
       "2  1.3  67.0   0.5   1.7  2.2  1.0  0.5  0.3  1.0          0.0  \n",
       "3  1.3  68.9   1.0   0.9  1.9  0.8  0.6  0.1  1.0          1.0  \n",
       "4  1.9  67.4   1.0   1.5  2.5  0.3  0.3  0.4  0.8          1.0  \n",
       "5  0.5  73.2   0.2   0.7  0.8  1.8  0.4  0.0  0.7          0.0  \n",
       "6  1.8  81.1   0.5   1.4  2.0  0.6  0.2  0.1  0.7          1.0  \n",
       "7  0.8  87.5   0.8   0.9  1.7  0.2  0.2  0.1  0.7          1.0  \n",
       "8  0.5  71.4   0.2   0.6  0.8  2.3  0.3  0.0  1.1          0.0  \n",
       "9  1.4  67.8   0.4   0.7  1.1  0.3  0.2  0.0  0.7          0.0  \n",
       "\n",
       "[10 rows x 21 columns]"
      ]
     },
     "execution_count": 3,
     "metadata": {},
     "output_type": "execute_result"
    }
   ],
   "source": [
    "nba_data = load_nba_data()\n",
    "nba_data.fillna(0, inplace=True)\n",
    "nba_data.head(10)"
   ]
  },
  {
   "cell_type": "markdown",
   "metadata": {},
   "source": [
    "Here we have a small sample of our dataset. Let's discard the **Name** and the **TARGET_5Yrs** columns, all the others are the features of every player, these will tell us if the player will last longer than 5 years in a league or not. The **TARGET_5Yrs** has the answer for every combination of features.\n",
    "\n",
    "Let's check a quick description of our dataset with the `info()` function"
   ]
  },
  {
   "cell_type": "code",
   "execution_count": 4,
   "metadata": {},
   "outputs": [
    {
     "name": "stdout",
     "output_type": "stream",
     "text": [
      "<class 'pandas.core.frame.DataFrame'>\n",
      "RangeIndex: 1340 entries, 0 to 1339\n",
      "Data columns (total 20 columns):\n",
      "GP             1340 non-null int64\n",
      "MIN            1340 non-null float64\n",
      "PTS            1340 non-null float64\n",
      "FGM            1340 non-null float64\n",
      "FGA            1340 non-null float64\n",
      "FG%            1340 non-null float64\n",
      "3P Made        1340 non-null float64\n",
      "3PA            1340 non-null float64\n",
      "3P%            1340 non-null float64\n",
      "FTM            1340 non-null float64\n",
      "FTA            1340 non-null float64\n",
      "FT%            1340 non-null float64\n",
      "OREB           1340 non-null float64\n",
      "DREB           1340 non-null float64\n",
      "REB            1340 non-null float64\n",
      "AST            1340 non-null float64\n",
      "STL            1340 non-null float64\n",
      "BLK            1340 non-null float64\n",
      "TOV            1340 non-null float64\n",
      "TARGET_5Yrs    1340 non-null float64\n",
      "dtypes: float64(19), int64(1)\n",
      "memory usage: 209.5 KB\n"
     ]
    }
   ],
   "source": [
    "# first let's remove the uneeded Name column, 'cause it's not relevant for this experiment\n",
    "nba_data = nba_data.drop('Name', 1)\n",
    "nba_data.info()"
   ]
  },
  {
   "cell_type": "markdown",
   "metadata": {},
   "source": [
    "We can also check some statistics information on our dataset with the `describe` function."
   ]
  },
  {
   "cell_type": "code",
   "execution_count": 5,
   "metadata": {},
   "outputs": [
    {
     "data": {
      "text/html": [
       "<div>\n",
       "<style scoped>\n",
       "    .dataframe tbody tr th:only-of-type {\n",
       "        vertical-align: middle;\n",
       "    }\n",
       "\n",
       "    .dataframe tbody tr th {\n",
       "        vertical-align: top;\n",
       "    }\n",
       "\n",
       "    .dataframe thead th {\n",
       "        text-align: right;\n",
       "    }\n",
       "</style>\n",
       "<table border=\"1\" class=\"dataframe\">\n",
       "  <thead>\n",
       "    <tr style=\"text-align: right;\">\n",
       "      <th></th>\n",
       "      <th>GP</th>\n",
       "      <th>MIN</th>\n",
       "      <th>PTS</th>\n",
       "      <th>FGM</th>\n",
       "      <th>FGA</th>\n",
       "      <th>FG%</th>\n",
       "      <th>3P Made</th>\n",
       "      <th>3PA</th>\n",
       "      <th>3P%</th>\n",
       "      <th>FTM</th>\n",
       "      <th>FTA</th>\n",
       "      <th>FT%</th>\n",
       "      <th>OREB</th>\n",
       "      <th>DREB</th>\n",
       "      <th>REB</th>\n",
       "      <th>AST</th>\n",
       "      <th>STL</th>\n",
       "      <th>BLK</th>\n",
       "      <th>TOV</th>\n",
       "      <th>TARGET_5Yrs</th>\n",
       "    </tr>\n",
       "  </thead>\n",
       "  <tbody>\n",
       "    <tr>\n",
       "      <th>count</th>\n",
       "      <td>1340.000000</td>\n",
       "      <td>1340.000000</td>\n",
       "      <td>1340.000000</td>\n",
       "      <td>1340.000000</td>\n",
       "      <td>1340.000000</td>\n",
       "      <td>1340.000000</td>\n",
       "      <td>1340.000000</td>\n",
       "      <td>1340.000000</td>\n",
       "      <td>1340.000000</td>\n",
       "      <td>1340.000000</td>\n",
       "      <td>1340.000000</td>\n",
       "      <td>1340.000000</td>\n",
       "      <td>1340.000000</td>\n",
       "      <td>1340.000000</td>\n",
       "      <td>1340.000000</td>\n",
       "      <td>1340.000000</td>\n",
       "      <td>1340.000000</td>\n",
       "      <td>1340.000000</td>\n",
       "      <td>1340.000000</td>\n",
       "      <td>1340.000000</td>\n",
       "    </tr>\n",
       "    <tr>\n",
       "      <th>mean</th>\n",
       "      <td>60.414179</td>\n",
       "      <td>17.624627</td>\n",
       "      <td>6.801493</td>\n",
       "      <td>2.629104</td>\n",
       "      <td>5.885299</td>\n",
       "      <td>44.169403</td>\n",
       "      <td>0.247612</td>\n",
       "      <td>0.779179</td>\n",
       "      <td>19.149627</td>\n",
       "      <td>1.297687</td>\n",
       "      <td>1.821940</td>\n",
       "      <td>70.300299</td>\n",
       "      <td>1.009403</td>\n",
       "      <td>2.025746</td>\n",
       "      <td>3.034478</td>\n",
       "      <td>1.550522</td>\n",
       "      <td>0.618507</td>\n",
       "      <td>0.368582</td>\n",
       "      <td>1.193582</td>\n",
       "      <td>0.620149</td>\n",
       "    </tr>\n",
       "    <tr>\n",
       "      <th>std</th>\n",
       "      <td>17.433992</td>\n",
       "      <td>8.307964</td>\n",
       "      <td>4.357545</td>\n",
       "      <td>1.683555</td>\n",
       "      <td>3.593488</td>\n",
       "      <td>6.137679</td>\n",
       "      <td>0.383688</td>\n",
       "      <td>1.061847</td>\n",
       "      <td>16.051861</td>\n",
       "      <td>0.987246</td>\n",
       "      <td>1.322984</td>\n",
       "      <td>10.578479</td>\n",
       "      <td>0.777119</td>\n",
       "      <td>1.360008</td>\n",
       "      <td>2.057774</td>\n",
       "      <td>1.471169</td>\n",
       "      <td>0.409759</td>\n",
       "      <td>0.429049</td>\n",
       "      <td>0.722541</td>\n",
       "      <td>0.485531</td>\n",
       "    </tr>\n",
       "    <tr>\n",
       "      <th>min</th>\n",
       "      <td>11.000000</td>\n",
       "      <td>3.100000</td>\n",
       "      <td>0.700000</td>\n",
       "      <td>0.300000</td>\n",
       "      <td>0.800000</td>\n",
       "      <td>23.800000</td>\n",
       "      <td>0.000000</td>\n",
       "      <td>0.000000</td>\n",
       "      <td>0.000000</td>\n",
       "      <td>0.000000</td>\n",
       "      <td>0.000000</td>\n",
       "      <td>0.000000</td>\n",
       "      <td>0.000000</td>\n",
       "      <td>0.200000</td>\n",
       "      <td>0.300000</td>\n",
       "      <td>0.000000</td>\n",
       "      <td>0.000000</td>\n",
       "      <td>0.000000</td>\n",
       "      <td>0.100000</td>\n",
       "      <td>0.000000</td>\n",
       "    </tr>\n",
       "    <tr>\n",
       "      <th>25%</th>\n",
       "      <td>47.000000</td>\n",
       "      <td>10.875000</td>\n",
       "      <td>3.700000</td>\n",
       "      <td>1.400000</td>\n",
       "      <td>3.300000</td>\n",
       "      <td>40.200000</td>\n",
       "      <td>0.000000</td>\n",
       "      <td>0.000000</td>\n",
       "      <td>0.000000</td>\n",
       "      <td>0.600000</td>\n",
       "      <td>0.900000</td>\n",
       "      <td>64.700000</td>\n",
       "      <td>0.400000</td>\n",
       "      <td>1.000000</td>\n",
       "      <td>1.500000</td>\n",
       "      <td>0.600000</td>\n",
       "      <td>0.300000</td>\n",
       "      <td>0.100000</td>\n",
       "      <td>0.700000</td>\n",
       "      <td>0.000000</td>\n",
       "    </tr>\n",
       "    <tr>\n",
       "      <th>50%</th>\n",
       "      <td>63.000000</td>\n",
       "      <td>16.100000</td>\n",
       "      <td>5.550000</td>\n",
       "      <td>2.100000</td>\n",
       "      <td>4.800000</td>\n",
       "      <td>44.100000</td>\n",
       "      <td>0.100000</td>\n",
       "      <td>0.300000</td>\n",
       "      <td>22.200000</td>\n",
       "      <td>1.000000</td>\n",
       "      <td>1.500000</td>\n",
       "      <td>71.250000</td>\n",
       "      <td>0.800000</td>\n",
       "      <td>1.700000</td>\n",
       "      <td>2.500000</td>\n",
       "      <td>1.100000</td>\n",
       "      <td>0.500000</td>\n",
       "      <td>0.200000</td>\n",
       "      <td>1.000000</td>\n",
       "      <td>1.000000</td>\n",
       "    </tr>\n",
       "    <tr>\n",
       "      <th>75%</th>\n",
       "      <td>77.000000</td>\n",
       "      <td>22.900000</td>\n",
       "      <td>8.800000</td>\n",
       "      <td>3.400000</td>\n",
       "      <td>7.500000</td>\n",
       "      <td>47.900000</td>\n",
       "      <td>0.400000</td>\n",
       "      <td>1.200000</td>\n",
       "      <td>32.500000</td>\n",
       "      <td>1.600000</td>\n",
       "      <td>2.300000</td>\n",
       "      <td>77.600000</td>\n",
       "      <td>1.400000</td>\n",
       "      <td>2.600000</td>\n",
       "      <td>4.000000</td>\n",
       "      <td>2.000000</td>\n",
       "      <td>0.800000</td>\n",
       "      <td>0.500000</td>\n",
       "      <td>1.500000</td>\n",
       "      <td>1.000000</td>\n",
       "    </tr>\n",
       "    <tr>\n",
       "      <th>max</th>\n",
       "      <td>82.000000</td>\n",
       "      <td>40.900000</td>\n",
       "      <td>28.200000</td>\n",
       "      <td>10.200000</td>\n",
       "      <td>19.800000</td>\n",
       "      <td>73.700000</td>\n",
       "      <td>2.300000</td>\n",
       "      <td>6.500000</td>\n",
       "      <td>100.000000</td>\n",
       "      <td>7.700000</td>\n",
       "      <td>10.200000</td>\n",
       "      <td>100.000000</td>\n",
       "      <td>5.300000</td>\n",
       "      <td>9.600000</td>\n",
       "      <td>13.900000</td>\n",
       "      <td>10.600000</td>\n",
       "      <td>2.500000</td>\n",
       "      <td>3.900000</td>\n",
       "      <td>4.400000</td>\n",
       "      <td>1.000000</td>\n",
       "    </tr>\n",
       "  </tbody>\n",
       "</table>\n",
       "</div>"
      ],
      "text/plain": [
       "                GP          MIN          PTS          FGM          FGA  \\\n",
       "count  1340.000000  1340.000000  1340.000000  1340.000000  1340.000000   \n",
       "mean     60.414179    17.624627     6.801493     2.629104     5.885299   \n",
       "std      17.433992     8.307964     4.357545     1.683555     3.593488   \n",
       "min      11.000000     3.100000     0.700000     0.300000     0.800000   \n",
       "25%      47.000000    10.875000     3.700000     1.400000     3.300000   \n",
       "50%      63.000000    16.100000     5.550000     2.100000     4.800000   \n",
       "75%      77.000000    22.900000     8.800000     3.400000     7.500000   \n",
       "max      82.000000    40.900000    28.200000    10.200000    19.800000   \n",
       "\n",
       "               FG%      3P Made          3PA          3P%          FTM  \\\n",
       "count  1340.000000  1340.000000  1340.000000  1340.000000  1340.000000   \n",
       "mean     44.169403     0.247612     0.779179    19.149627     1.297687   \n",
       "std       6.137679     0.383688     1.061847    16.051861     0.987246   \n",
       "min      23.800000     0.000000     0.000000     0.000000     0.000000   \n",
       "25%      40.200000     0.000000     0.000000     0.000000     0.600000   \n",
       "50%      44.100000     0.100000     0.300000    22.200000     1.000000   \n",
       "75%      47.900000     0.400000     1.200000    32.500000     1.600000   \n",
       "max      73.700000     2.300000     6.500000   100.000000     7.700000   \n",
       "\n",
       "               FTA          FT%         OREB         DREB          REB  \\\n",
       "count  1340.000000  1340.000000  1340.000000  1340.000000  1340.000000   \n",
       "mean      1.821940    70.300299     1.009403     2.025746     3.034478   \n",
       "std       1.322984    10.578479     0.777119     1.360008     2.057774   \n",
       "min       0.000000     0.000000     0.000000     0.200000     0.300000   \n",
       "25%       0.900000    64.700000     0.400000     1.000000     1.500000   \n",
       "50%       1.500000    71.250000     0.800000     1.700000     2.500000   \n",
       "75%       2.300000    77.600000     1.400000     2.600000     4.000000   \n",
       "max      10.200000   100.000000     5.300000     9.600000    13.900000   \n",
       "\n",
       "               AST          STL          BLK          TOV  TARGET_5Yrs  \n",
       "count  1340.000000  1340.000000  1340.000000  1340.000000  1340.000000  \n",
       "mean      1.550522     0.618507     0.368582     1.193582     0.620149  \n",
       "std       1.471169     0.409759     0.429049     0.722541     0.485531  \n",
       "min       0.000000     0.000000     0.000000     0.100000     0.000000  \n",
       "25%       0.600000     0.300000     0.100000     0.700000     0.000000  \n",
       "50%       1.100000     0.500000     0.200000     1.000000     1.000000  \n",
       "75%       2.000000     0.800000     0.500000     1.500000     1.000000  \n",
       "max      10.600000     2.500000     3.900000     4.400000     1.000000  "
      ]
     },
     "execution_count": 5,
     "metadata": {},
     "output_type": "execute_result"
    }
   ],
   "source": [
    "nba_data.describe()"
   ]
  },
  {
   "cell_type": "markdown",
   "metadata": {},
   "source": [
    "Let's take a look at our target is distributed over the dataset."
   ]
  },
  {
   "cell_type": "code",
   "execution_count": 6,
   "metadata": {},
   "outputs": [
    {
     "data": {
      "text/plain": [
       "TARGET_5Yrs\n",
       "0.0    509\n",
       "1.0    831\n",
       "dtype: int64"
      ]
     },
     "execution_count": 6,
     "metadata": {},
     "output_type": "execute_result"
    }
   ],
   "source": [
    "nba_data.groupby('TARGET_5Yrs').size()"
   ]
  },
  {
   "cell_type": "markdown",
   "metadata": {},
   "source": [
    "In resume, we have 1340 objects in our dataset where 509 will not last longer than 5 years in league and the others 831 will. "
   ]
  },
  {
   "cell_type": "markdown",
   "metadata": {},
   "source": [
    "## Data Visualization"
   ]
  },
  {
   "cell_type": "code",
   "execution_count": 7,
   "metadata": {},
   "outputs": [
    {
     "data": {
      "image/png": "[encoded data removed]",
      "text/plain": [
       "<Figure size 432x288 with 20 Axes>"
      ]
     },
     "metadata": {
      "needs_background": "light"
     },
     "output_type": "display_data"
    }
   ],
   "source": [
    "nba_data.hist()\n",
    "plt.show()"
   ]
  },
  {
   "cell_type": "markdown",
   "metadata": {},
   "source": [
    "## Machine Learning Models Evaluation\n",
    "As we saw in the beginning of this post, this is a **Classification Problema**. We will create some models with different ML algorithms and check their accuracy.\n",
    "\n",
    "### Spliting Data\n",
    "Let's split our dataset into two new datasets. We will use 80% of the dataset to train our classification models and 20% of it to perform the validation."
   ]
  },
  {
   "cell_type": "code",
   "execution_count": 7,
   "metadata": {},
   "outputs": [],
   "source": [
    "data = nba_data.values\n",
    "# data = np.array(data)\n",
    "\n",
    "# now let's separate the features columns from the target column\n",
    "X = data[:, 0:19]\n",
    "Y = data[:, 19]\n",
    "\n",
    "# as said before,  we will use 20% of the dataset for validation\n",
    "validation_size = 0.20\n",
    "\n",
    "# split the data into traning and testing\n",
    "X_train, X_test, Y_train, Y_test = model_selection.train_test_split(X, Y, test_size=validation_size, random_state=SEED)"
   ]
  },
  {
   "cell_type": "markdown",
   "metadata": {},
   "source": [
    "Now that we have our training and testing set, we are going to create an array with the models we want to evaluate. We will use each model with the default settings."
   ]
  },
  {
   "cell_type": "code",
   "execution_count": 8,
   "metadata": {},
   "outputs": [],
   "source": [
    "models = []\n",
    "models.append(('LR', LogisticRegression(solver='liblinear', multi_class='ovr')))\n",
    "models.append(('LDA', LinearDiscriminantAnalysis()))\n",
    "models.append(('KNN', KNeighborsClassifier()))\n",
    "models.append(('CART', DecisionTreeClassifier()))\n",
    "models.append(('NB', GaussianNB()))\n",
    "models.append(('SVM', SVC(gamma='auto')))"
   ]
  },
  {
   "cell_type": "markdown",
   "metadata": {},
   "source": [
    "To evaluate the models we will user K-Fold cross-validation and measure the accuracy for each model. This techinique randomly splits the training set into K distincts subsets (*folds*), then it trains and evaluates the model K times picking a different fold for every evaliation. The result will be an array with the K evaluation scores. For this example we will a Cross-Validation using the **StratifiedKFold** from **SKLearn**. We will use the Mean of the accuracies of each model to determinate which one has the best results."
   ]
  },
  {
   "cell_type": "code",
   "execution_count": 11,
   "metadata": {},
   "outputs": [
    {
     "name": "stdout",
     "output_type": "stream",
     "text": [
      "Model: LR, Accuracy Mean: 0.705244 (0.026186)\n",
      "Model: LDA, Accuracy Mean: 0.706205 (0.027503)\n",
      "Model: KNN, Accuracy Mean: 0.674429 (0.026029)\n",
      "Model: CART, Accuracy Mean: 0.634372 (0.047236)\n",
      "Model: NB, Accuracy Mean: 0.632433 (0.040794)\n",
      "Model: SVM, Accuracy Mean: 0.619384 (0.021099)\n"
     ]
    }
   ],
   "source": [
    "scoring = 'accuracy'\n",
    "models_results = []\n",
    "for name, model in models:\n",
    "    results = []\n",
    "    skfolds = model_selection.StratifiedKFold(n_splits=10, random_state=SEED)\n",
    "    for train_index, test_index in skfolds.split(X_train, Y_train):\n",
    "        X_train_folds = X_train[train_index]\n",
    "        Y_train_folds = (Y_train[train_index])\n",
    "        X_test_folds = X_train[test_index]\n",
    "        Y_test_folds = (Y_train[test_index])\n",
    "        \n",
    "        model.fit(X_train_folds, Y_train_folds)\n",
    "        pred = model.predict(X_test_folds)\n",
    "        correct = sum(pred == Y_test_folds)\n",
    "        results.append(correct / len(pred))\n",
    "    models_results.append((name, results))\n",
    "    \n",
    "\n",
    "names = []\n",
    "scores = []\n",
    "# the snippet bellow calculates the mean of the accuracies\n",
    "for name, results in models_results:\n",
    "    mean = np.array(results).mean()\n",
    "    std = np.array(results).std()\n",
    "    print(\"Model: %s, Accuracy Mean: %f (%f)\" % (name, mean, std))\n",
    "    names.append(name)\n",
    "    scores.append(results)"
   ]
  },
  {
   "cell_type": "markdown",
   "metadata": {},
   "source": [
    "The results above show us that the Linear Discriminant Analysis has the best accuracy score among the models we tested. The boxplot below shows the accuracy scores spread accross each fold."
   ]
  },
  {
   "cell_type": "code",
   "execution_count": 13,
   "metadata": {},
   "outputs": [
    {
     "data": {
      "image/png": "[encoded data removed]",
      "text/plain": [
       "<Figure size 432x288 with 1 Axes>"
      ]
     },
     "metadata": {
      "needs_background": "light"
     },
     "output_type": "display_data"
    }
   ],
   "source": [
    "fig = plt.figure()\n",
    "fig.suptitle('Models Comparison')\n",
    "ax = fig.add_subplot(111)\n",
    "plt.boxplot(scores)\n",
    "ax.set_xticklabels(names)\n",
    "plt.show()"
   ]
  },
  {
   "cell_type": "markdown",
   "metadata": {},
   "source": [
    "## Making Predictions\n",
    "\n",
    "Now we will check the accuracy of the LDA model by making some predictions with the validation set we've prepared before. To do so, we will create an instance of the model and use the method `predict`."
   ]
  },
  {
   "cell_type": "code",
   "execution_count": 16,
   "metadata": {},
   "outputs": [
    {
     "name": "stdout",
     "output_type": "stream",
     "text": [
      "Accuracy: 0.6902985074626866\n"
     ]
    }
   ],
   "source": [
    "model = LinearDiscriminantAnalysis()\n",
    "model.fit(X_train, Y_train)\n",
    "predictions = model.predict(X_test)\n",
    "print(\"Accuracy: {}\".format(accuracy_score(Y_test, predictions)))"
   ]
  },
  {
   "cell_type": "markdown",
   "metadata": {},
   "source": [
    "We can also check the Confusion Matrix for this model"
   ]
  },
  {
   "cell_type": "code",
   "execution_count": 17,
   "metadata": {},
   "outputs": [
    {
     "name": "stdout",
     "output_type": "stream",
     "text": [
      "[[ 52  45]\n",
      " [ 38 133]]\n"
     ]
    }
   ],
   "source": [
    "print(confusion_matrix(Y_test, predictions))"
   ]
  },
  {
   "cell_type": "markdown",
   "metadata": {},
   "source": [
    "Each row in a confusion matrix represents an **actual target** and each column represents a **predicted target**. The first row of this matrix contains the **true negatives** and the **false positives**. Which means that 52 samples were correctly classified and 45 were wrongly classified. The second row shows us the **false negatives** and the **true positives**, wich means that 38 samples were wrongly classified and 133 were classified correctly."
   ]
  },
  {
   "cell_type": "markdown",
   "metadata": {},
   "source": [
    "The confusion matrix provides a lot of information, but if you want to get a more concise metrics you can use the `classification_report` function of Scikit-Learn. It will provide the **precision**, **recall** and **f1-score** metrics."
   ]
  },
  {
   "cell_type": "code",
   "execution_count": 18,
   "metadata": {},
   "outputs": [
    {
     "name": "stdout",
     "output_type": "stream",
     "text": [
      "              precision    recall  f1-score   support\n",
      "\n",
      "         0.0       0.58      0.54      0.56        97\n",
      "         1.0       0.75      0.78      0.76       171\n",
      "\n",
      "    accuracy                           0.69       268\n",
      "   macro avg       0.66      0.66      0.66       268\n",
      "weighted avg       0.69      0.69      0.69       268\n",
      "\n"
     ]
    }
   ],
   "source": [
    "print(classification_report(Y_test, predictions))"
   ]
  },
  {
   "cell_type": "markdown",
   "metadata": {},
   "source": [
    "The accuracy of the positive predictions is called **precision**. It's defined by the formula: TP/(TP + FP), where TP is the number of **True Positives** and FP is the number of **False Positives**. This metric is tipically used along the **recall** which is the true positive rate - the ratio of positive instances that are correctly detected by the model. It's equation is: TP / (TP + FN) where FN is the **False Negatives**."
   ]
  },
  {
   "cell_type": "markdown",
   "metadata": {},
   "source": [
    "## Conclusion\n",
    "\n",
    "This is a short brief about Classification with Python and Scikit-Learning. There is a lot more to cover, we can improve our models results by normalizing the data for example. There's also others metrics to cover. But the firts steps into Machine Learning world can be done with this tutorial. Hope you enjoy it!!"
   ]
  },
  {
   "cell_type": "markdown",
   "metadata": {},
   "source": [
    "## References\n",
    "\n",
    "* Your First Machine Learning Project in Python Step-By-Step - https://machinelearningmastery.com/machine-learning-in-python-step-by-step/\n",
    "\n",
    "* Géron, A. (2017). Hands-on machine learning with Scikit-Learn and TensorFlow: Concepts, tools, and techniques to build intelligent systems. "
   ]
  },
  {
   "cell_type": "code",
   "execution_count": null,
   "metadata": {},
   "outputs": [],
   "source": []
  }
 ],
 "metadata": {
  "kernelspec": {
   "display_name": "Python 3",
   "language": "python",
   "name": "python3"
  },
  "language_info": {
   "codemirror_mode": {
    "name": "ipython",
    "version": 3
   },
   "file_extension": ".py",
   "mimetype": "text/x-python",
   "name": "python",
   "nbconvert_exporter": "python",
   "pygments_lexer": "ipython3",
   "version": "3.7.4"
  }
 },
 "nbformat": 4,
 "nbformat_minor": 4
}
